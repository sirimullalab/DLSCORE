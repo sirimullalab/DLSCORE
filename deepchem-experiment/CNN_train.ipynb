{
 "cells": [
  {
   "cell_type": "code",
   "execution_count": 24,
   "metadata": {},
   "outputs": [],
   "source": [
    "import pickle\n",
    "import csv\n",
    "import numpy as np\n",
    "from keras.models import Sequential\n",
    "from keras.layers import Dropout, Flatten, Dense\n",
    "from keras.layers.convolutional import Conv3D\n",
    "from keras.layers.pooling import MaxPooling3D, GlobalAveragePooling3D, AveragePooling3D\n",
    "from keras import metrics\n",
    "from keras import backend as K\n",
    "from keras.utils.training_utils import multi_gpu_model\n",
    "import random\n",
    "import h5py\n",
    "import bcolz as bc\n",
    "import os\n",
    "import json\n",
    "import matplotlib.pyplot as plt\n",
    "from sklearn.metrics import r2_score"
   ]
  },
  {
   "cell_type": "code",
   "execution_count": 14,
   "metadata": {},
   "outputs": [],
   "source": [
    "%matplotlib inline\n",
    "random.seed(98767890)"
   ]
  },
  {
   "cell_type": "code",
   "execution_count": 3,
   "metadata": {},
   "outputs": [],
   "source": [
    "def get_model(summary=False):\n",
    "    \"\"\" Return the Keras model of the network\n",
    "    \"\"\"\n",
    "    # input_shape = (batch, spatial_dim1, spatial_dim2, spatial_dim3, channels)\n",
    "#     model.add(Convolution3D(filters,\n",
    "#                             kernel_size,\n",
    "#                             strides=(1, 1, 1),\n",
    "#                             padding='valid',\n",
    "#                             data_format=None,\n",
    "#                             dilation_rate=(1, 1, 1),\n",
    "#                             activation=None,\n",
    "#                             use_bias=True,\n",
    "#                             kernel_initializer='glorot_uniform',\n",
    "#                             bias_initializer='zeros',\n",
    "#                             kernel_regularizer=None,\n",
    "#                             bias_regularizer=None,\n",
    "#                             activity_regularizer=None,\n",
    "#                             kernel_constraint=None,\n",
    "#                             bias_constraint=None\n",
    "#                            )\n",
    "#              )\n",
    "\n",
    "    model = Sequential()\n",
    "    \n",
    "    # 1st layer group\n",
    "    model.add(Conv3D(filters=64,\n",
    "                     kernel_size=(3, 3, 3),\n",
    "                     strides = (1, 1, 1),\n",
    "                     input_shape=(16, 16, 16, 36),\n",
    "                     padding='same',\n",
    "                     activation='relu',\n",
    "                     kernel_initializer='glorot_uniform',\n",
    "                     bias_initializer='zeros'))\n",
    "    \n",
    "    model.add(MaxPooling3D(pool_size=(2, 2, 2),\n",
    "                           padding='same'))\n",
    "    \n",
    "    # 2nd layer group\n",
    "    model.add(Conv3D(filters=128,\n",
    "                     kernel_size=(3, 3, 3),\n",
    "                     activation='relu',\n",
    "                     padding='same'))\n",
    "    \n",
    "    model.add(MaxPooling3D(pool_size=(2, 2, 2),\n",
    "                           strides=(1, 1, 1),\n",
    "                           padding='same'))\n",
    "    \n",
    "    # 3rd layer group\n",
    "    model.add(Conv3D(filters=256,\n",
    "                     kernel_size=(3, 3, 3),\n",
    "                     activation='relu',\n",
    "                     padding='valid'))\n",
    "    \n",
    "    model.add(MaxPooling3D(pool_size=(2, 2, 2),\n",
    "                           strides=(1, 1, 1),\n",
    "                           padding='valid'))\n",
    "    \n",
    "    # 4th layer group\n",
    "    model.add(Conv3D(filters=512,\n",
    "                     kernel_size=(3, 3, 3),\n",
    "                     activation='relu',\n",
    "                     padding='valid'))\n",
    "    \n",
    "    model.add(MaxPooling3D(pool_size=(2, 2, 2),\n",
    "                           strides=(1, 1, 1),\n",
    "                           padding='valid'))\n",
    "    \n",
    "    # Reduce the number of parameters (!!!)\n",
    "    model.add(AveragePooling3D(pool_size=(2, 2, 2), \n",
    "                               padding='valid'))\n",
    "                           \n",
    "    model.add(Flatten())\n",
    "    model.add(Dense(256, activation='relu'))\n",
    "    model.add(Dropout(.5))\n",
    "    model.add(Dense(128, activation='relu'))\n",
    "    model.add(Dropout(.5))\n",
    "    model.add(Dense(32, activation='relu'))\n",
    "    model.add(Dropout(.5))\n",
    "    model.add(Dense(1, activation='linear'))\n",
    "    if summary:\n",
    "        print(model.summary())\n",
    "    return model"
   ]
  },
  {
   "cell_type": "code",
   "execution_count": 4,
   "metadata": {},
   "outputs": [],
   "source": [
    "def read_data(valid_split=0.1, test_split=0.1):\n",
    "    with open('data_x_norm.pickle', 'rb') as f:\n",
    "        data_x = pickle.load(f)\n",
    "    with open('data_y.pickle', 'rb') as f:\n",
    "        data_y = pickle.load(f)\n",
    "    assert(data_x.shape[0] == data_y.shape[0]), \\\n",
    "    'Number of feature vectors and the corresponding labels are not the same!'\n",
    "    \n",
    "    valid_size = round(data_x.shape[0]*0.1)\n",
    "    test_size = round(data_x.shape[0]*0.1)\n",
    "    \n",
    "    # Get the validation data\n",
    "    rand_keys = np.random.choice(data_x.shape[0], valid_size)\n",
    "    valid_x = data_x[rand_keys]\n",
    "    valid_y = data_y[rand_keys]\n",
    "    \n",
    "    # remove validation set from the data\n",
    "    mask = np.ones(data_x.shape[0], dtype=bool)\n",
    "    mask[rand_keys] = False\n",
    "    data_x = data_x[mask]\n",
    "    data_y = data_y[mask]\n",
    "    \n",
    "    # Get the test data\n",
    "    rand_keys = np.random.choice(data_x.shape[0], test_size)\n",
    "    test_x = data_x[rand_keys]\n",
    "    test_y = data_y[rand_keys]\n",
    "    \n",
    "    # remove test set from the data\n",
    "    mask = np.ones(data_x.shape[0], dtype=bool)\n",
    "    mask[rand_keys] = False\n",
    "    data_x = data_x[mask]\n",
    "    data_y = data_y[mask]\n",
    "    \n",
    "    return (data_x, data_y), (test_x, test_y), (valid_x, valid_y)"
   ]
  },
  {
   "cell_type": "code",
   "execution_count": 5,
   "metadata": {},
   "outputs": [
    {
     "name": "stdout",
     "output_type": "stream",
     "text": [
      "(3308, 16, 16, 16, 36) (3308,) (408, 16, 16, 16, 36) (408,) (408, 16, 16, 16, 36) (408,)\n"
     ]
    }
   ],
   "source": [
    "train, test, valid = read_data()\n",
    "print(train[0].shape, train[1].shape, test[0].shape, test[1].shape, valid[0].shape, valid[1].shape)"
   ]
  },
  {
   "cell_type": "code",
   "execution_count": 6,
   "metadata": {},
   "outputs": [],
   "source": [
    "# Batch generator for training\n",
    "def generator(data, batch_size):\n",
    "    x = data[0]\n",
    "    y = data[1]\n",
    "    assert(batch_size <= x.shape[0]), 'Batch size is larger than the total sample count'\n",
    "    batch_x = np.zeros([batch_size] + list(x.shape[1:]))\n",
    "    batch_y = np.zeros(batch_size)\n",
    "    while(True):\n",
    "        rand_keys = np.random.choice(x.shape[0], batch_size)\n",
    "        yield x[rand_keys], y[rand_keys]"
   ]
  },
  {
   "cell_type": "code",
   "execution_count": 7,
   "metadata": {},
   "outputs": [
    {
     "data": {
      "text/plain": [
       "((5, 16, 16, 16, 36), (5,))"
      ]
     },
     "execution_count": 7,
     "metadata": {},
     "output_type": "execute_result"
    }
   ],
   "source": [
    "# Warm up the generator\n",
    "bx, by = next(generator(test, 5))\n",
    "bx.shape, by.shape"
   ]
  },
  {
   "cell_type": "code",
   "execution_count": 8,
   "metadata": {},
   "outputs": [],
   "source": [
    "# Set dynamic memory allocation in a specific gpu\n",
    "# K.clear_session()\n",
    "# config = K.tf.ConfigProto()\n",
    "# config.gpu_options.allow_growth = True\n",
    "# config.gpu_options.visible_device_list = \"6\"\n",
    "# K.set_session(K.tf.Session(config=config))"
   ]
  },
  {
   "cell_type": "code",
   "execution_count": 9,
   "metadata": {},
   "outputs": [
    {
     "name": "stdout",
     "output_type": "stream",
     "text": [
      "_________________________________________________________________\n",
      "Layer (type)                 Output Shape              Param #   \n",
      "=================================================================\n",
      "conv3d_1 (Conv3D)            (None, 16, 16, 16, 64)    62272     \n",
      "_________________________________________________________________\n",
      "max_pooling3d_1 (MaxPooling3 (None, 8, 8, 8, 64)       0         \n",
      "_________________________________________________________________\n",
      "conv3d_2 (Conv3D)            (None, 8, 8, 8, 128)      221312    \n",
      "_________________________________________________________________\n",
      "max_pooling3d_2 (MaxPooling3 (None, 8, 8, 8, 128)      0         \n",
      "_________________________________________________________________\n",
      "conv3d_3 (Conv3D)            (None, 6, 6, 6, 256)      884992    \n",
      "_________________________________________________________________\n",
      "max_pooling3d_3 (MaxPooling3 (None, 5, 5, 5, 256)      0         \n",
      "_________________________________________________________________\n",
      "conv3d_4 (Conv3D)            (None, 3, 3, 3, 512)      3539456   \n",
      "_________________________________________________________________\n",
      "max_pooling3d_4 (MaxPooling3 (None, 2, 2, 2, 512)      0         \n",
      "_________________________________________________________________\n",
      "average_pooling3d_1 (Average (None, 1, 1, 1, 512)      0         \n",
      "_________________________________________________________________\n",
      "flatten_1 (Flatten)          (None, 512)               0         \n",
      "_________________________________________________________________\n",
      "dense_1 (Dense)              (None, 256)               131328    \n",
      "_________________________________________________________________\n",
      "dropout_1 (Dropout)          (None, 256)               0         \n",
      "_________________________________________________________________\n",
      "dense_2 (Dense)              (None, 128)               32896     \n",
      "_________________________________________________________________\n",
      "dropout_2 (Dropout)          (None, 128)               0         \n",
      "_________________________________________________________________\n",
      "dense_3 (Dense)              (None, 32)                4128      \n",
      "_________________________________________________________________\n",
      "dropout_3 (Dropout)          (None, 32)                0         \n",
      "_________________________________________________________________\n",
      "dense_4 (Dense)              (None, 1)                 33        \n",
      "=================================================================\n",
      "Total params: 4,876,417\n",
      "Trainable params: 4,876,417\n",
      "Non-trainable params: 0\n",
      "_________________________________________________________________\n",
      "None\n"
     ]
    }
   ],
   "source": [
    "model = get_model(summary=True)"
   ]
  },
  {
   "cell_type": "code",
   "execution_count": 10,
   "metadata": {},
   "outputs": [],
   "source": [
    "model = multi_gpu_model(model, gpus=8)\n",
    "model.compile(optimizer='adam',\n",
    "              loss='mean_squared_error',\n",
    "              metrics=[metrics.mse])"
   ]
  },
  {
   "cell_type": "code",
   "execution_count": 11,
   "metadata": {},
   "outputs": [
    {
     "name": "stdout",
     "output_type": "stream",
     "text": [
      "Epoch 1/100\n",
      "103/103 [==============================] - 18s 175ms/step - loss: 17.6287 - mean_squared_error: 17.6287 - val_loss: 4.4346 - val_mean_squared_error: 4.4346\n",
      "Epoch 2/100\n",
      "103/103 [==============================] - 9s 88ms/step - loss: 9.6855 - mean_squared_error: 9.6855 - val_loss: 6.0365 - val_mean_squared_error: 6.0365\n",
      "Epoch 3/100\n",
      "103/103 [==============================] - 9s 91ms/step - loss: 8.3074 - mean_squared_error: 8.3074 - val_loss: 3.9396 - val_mean_squared_error: 3.9396\n",
      "Epoch 4/100\n",
      "103/103 [==============================] - 9s 91ms/step - loss: 7.3827 - mean_squared_error: 7.3827 - val_loss: 4.1103 - val_mean_squared_error: 4.1103\n",
      "Epoch 5/100\n",
      "103/103 [==============================] - 9s 89ms/step - loss: 7.0838 - mean_squared_error: 7.0838 - val_loss: 3.7199 - val_mean_squared_error: 3.7199\n",
      "Epoch 6/100\n",
      "103/103 [==============================] - 9s 90ms/step - loss: 6.2877 - mean_squared_error: 6.2877 - val_loss: 4.4099 - val_mean_squared_error: 4.4099\n",
      "Epoch 7/100\n",
      "103/103 [==============================] - 9s 89ms/step - loss: 6.6291 - mean_squared_error: 6.6291 - val_loss: 3.7627 - val_mean_squared_error: 3.7627\n",
      "Epoch 8/100\n",
      "103/103 [==============================] - 9s 89ms/step - loss: 5.8241 - mean_squared_error: 5.8241 - val_loss: 3.5184 - val_mean_squared_error: 3.5184\n",
      "Epoch 9/100\n",
      "103/103 [==============================] - 9s 89ms/step - loss: 5.5536 - mean_squared_error: 5.5536 - val_loss: 3.3941 - val_mean_squared_error: 3.3941\n",
      "Epoch 10/100\n",
      "103/103 [==============================] - 9s 89ms/step - loss: 6.0381 - mean_squared_error: 6.0381 - val_loss: 3.2361 - val_mean_squared_error: 3.2361\n",
      "Epoch 11/100\n",
      "103/103 [==============================] - 9s 89ms/step - loss: 5.0210 - mean_squared_error: 5.0210 - val_loss: 3.7997 - val_mean_squared_error: 3.7997\n",
      "Epoch 12/100\n",
      "103/103 [==============================] - 9s 88ms/step - loss: 5.0882 - mean_squared_error: 5.0882 - val_loss: 3.1972 - val_mean_squared_error: 3.1972\n",
      "Epoch 13/100\n",
      "103/103 [==============================] - 9s 89ms/step - loss: 4.6942 - mean_squared_error: 4.6942 - val_loss: 3.0576 - val_mean_squared_error: 3.0576\n",
      "Epoch 14/100\n",
      "103/103 [==============================] - 9s 90ms/step - loss: 4.7352 - mean_squared_error: 4.7352 - val_loss: 4.0360 - val_mean_squared_error: 4.0360\n",
      "Epoch 15/100\n",
      "103/103 [==============================] - 9s 89ms/step - loss: 4.6102 - mean_squared_error: 4.6102 - val_loss: 3.2666 - val_mean_squared_error: 3.2666\n",
      "Epoch 16/100\n",
      "103/103 [==============================] - 9s 90ms/step - loss: 4.5743 - mean_squared_error: 4.5743 - val_loss: 3.5511 - val_mean_squared_error: 3.5511\n",
      "Epoch 17/100\n",
      "103/103 [==============================] - 9s 90ms/step - loss: 4.4484 - mean_squared_error: 4.4484 - val_loss: 4.2550 - val_mean_squared_error: 4.2550\n",
      "Epoch 18/100\n",
      "103/103 [==============================] - 9s 90ms/step - loss: 4.3413 - mean_squared_error: 4.3413 - val_loss: 4.1692 - val_mean_squared_error: 4.1692\n",
      "Epoch 19/100\n",
      "103/103 [==============================] - 9s 89ms/step - loss: 4.3875 - mean_squared_error: 4.3875 - val_loss: 3.6976 - val_mean_squared_error: 3.6976\n",
      "Epoch 20/100\n",
      "103/103 [==============================] - 9s 89ms/step - loss: 4.2096 - mean_squared_error: 4.2096 - val_loss: 3.1195 - val_mean_squared_error: 3.1195\n",
      "Epoch 21/100\n",
      "103/103 [==============================] - 9s 90ms/step - loss: 3.8615 - mean_squared_error: 3.8615 - val_loss: 3.0230 - val_mean_squared_error: 3.0230\n",
      "Epoch 22/100\n",
      "103/103 [==============================] - 9s 90ms/step - loss: 3.7009 - mean_squared_error: 3.7009 - val_loss: 4.3144 - val_mean_squared_error: 4.3144\n",
      "Epoch 23/100\n",
      "103/103 [==============================] - 9s 88ms/step - loss: 3.7637 - mean_squared_error: 3.7637 - val_loss: 3.4924 - val_mean_squared_error: 3.4924\n",
      "Epoch 24/100\n",
      "103/103 [==============================] - 9s 89ms/step - loss: 3.7872 - mean_squared_error: 3.7872 - val_loss: 4.3670 - val_mean_squared_error: 4.3670\n",
      "Epoch 25/100\n",
      "103/103 [==============================] - 9s 88ms/step - loss: 3.8761 - mean_squared_error: 3.8761 - val_loss: 3.3324 - val_mean_squared_error: 3.3324\n",
      "Epoch 26/100\n",
      "103/103 [==============================] - 9s 88ms/step - loss: 3.4769 - mean_squared_error: 3.4769 - val_loss: 3.8259 - val_mean_squared_error: 3.8259\n",
      "Epoch 27/100\n",
      "103/103 [==============================] - 9s 88ms/step - loss: 3.3857 - mean_squared_error: 3.3857 - val_loss: 3.6968 - val_mean_squared_error: 3.6968\n",
      "Epoch 28/100\n",
      "103/103 [==============================] - 9s 89ms/step - loss: 3.3509 - mean_squared_error: 3.3509 - val_loss: 3.1938 - val_mean_squared_error: 3.1938\n",
      "Epoch 29/100\n",
      "103/103 [==============================] - 9s 88ms/step - loss: 3.3777 - mean_squared_error: 3.3777 - val_loss: 3.5973 - val_mean_squared_error: 3.5973\n",
      "Epoch 30/100\n",
      "103/103 [==============================] - 9s 87ms/step - loss: 3.2618 - mean_squared_error: 3.2618 - val_loss: 4.0811 - val_mean_squared_error: 4.0811\n",
      "Epoch 31/100\n",
      "103/103 [==============================] - 9s 87ms/step - loss: 3.2313 - mean_squared_error: 3.2313 - val_loss: 3.7260 - val_mean_squared_error: 3.7260\n",
      "Epoch 32/100\n",
      "103/103 [==============================] - 9s 88ms/step - loss: 3.0560 - mean_squared_error: 3.0560 - val_loss: 3.3346 - val_mean_squared_error: 3.3346\n",
      "Epoch 33/100\n",
      "103/103 [==============================] - 9s 88ms/step - loss: 3.0166 - mean_squared_error: 3.0166 - val_loss: 4.6080 - val_mean_squared_error: 4.6080\n",
      "Epoch 34/100\n",
      "103/103 [==============================] - 9s 89ms/step - loss: 2.8551 - mean_squared_error: 2.8551 - val_loss: 3.4229 - val_mean_squared_error: 3.4229\n",
      "Epoch 35/100\n",
      "103/103 [==============================] - 9s 88ms/step - loss: 2.8435 - mean_squared_error: 2.8435 - val_loss: 3.7736 - val_mean_squared_error: 3.7736\n",
      "Epoch 36/100\n",
      "103/103 [==============================] - 9s 86ms/step - loss: 2.7841 - mean_squared_error: 2.7841 - val_loss: 4.0448 - val_mean_squared_error: 4.0448\n",
      "Epoch 37/100\n",
      "103/103 [==============================] - 9s 89ms/step - loss: 2.6730 - mean_squared_error: 2.6730 - val_loss: 3.8913 - val_mean_squared_error: 3.8913\n",
      "Epoch 38/100\n",
      "103/103 [==============================] - 9s 86ms/step - loss: 2.6115 - mean_squared_error: 2.6115 - val_loss: 3.5911 - val_mean_squared_error: 3.5911\n",
      "Epoch 39/100\n",
      "103/103 [==============================] - 9s 88ms/step - loss: 2.5953 - mean_squared_error: 2.5953 - val_loss: 4.1178 - val_mean_squared_error: 4.1178\n",
      "Epoch 40/100\n",
      "103/103 [==============================] - 9s 87ms/step - loss: 2.4026 - mean_squared_error: 2.4026 - val_loss: 3.3489 - val_mean_squared_error: 3.3489\n",
      "Epoch 41/100\n",
      "103/103 [==============================] - 9s 87ms/step - loss: 2.3582 - mean_squared_error: 2.3582 - val_loss: 3.3726 - val_mean_squared_error: 3.3726\n",
      "Epoch 42/100\n",
      "103/103 [==============================] - 9s 88ms/step - loss: 2.3417 - mean_squared_error: 2.3417 - val_loss: 4.0768 - val_mean_squared_error: 4.0768\n",
      "Epoch 43/100\n",
      "103/103 [==============================] - 9s 87ms/step - loss: 2.3297 - mean_squared_error: 2.3297 - val_loss: 3.4077 - val_mean_squared_error: 3.4077\n",
      "Epoch 44/100\n",
      "103/103 [==============================] - 9s 88ms/step - loss: 2.3282 - mean_squared_error: 2.3282 - val_loss: 3.0680 - val_mean_squared_error: 3.0680\n",
      "Epoch 45/100\n",
      "103/103 [==============================] - 9s 86ms/step - loss: 2.2371 - mean_squared_error: 2.2371 - val_loss: 3.9456 - val_mean_squared_error: 3.9456\n",
      "Epoch 46/100\n",
      "103/103 [==============================] - 9s 87ms/step - loss: 2.1572 - mean_squared_error: 2.1572 - val_loss: 3.2029 - val_mean_squared_error: 3.2029\n",
      "Epoch 47/100\n",
      "103/103 [==============================] - 9s 86ms/step - loss: 2.0476 - mean_squared_error: 2.0476 - val_loss: 3.4326 - val_mean_squared_error: 3.4326\n",
      "Epoch 48/100\n",
      "103/103 [==============================] - 9s 86ms/step - loss: 1.9846 - mean_squared_error: 1.9846 - val_loss: 3.7395 - val_mean_squared_error: 3.7395\n",
      "Epoch 49/100\n",
      "103/103 [==============================] - 9s 85ms/step - loss: 2.0896 - mean_squared_error: 2.0896 - val_loss: 3.1810 - val_mean_squared_error: 3.1810\n",
      "Epoch 50/100\n",
      "103/103 [==============================] - 9s 86ms/step - loss: 2.0487 - mean_squared_error: 2.0487 - val_loss: 4.0028 - val_mean_squared_error: 4.0028\n"
     ]
    },
    {
     "name": "stdout",
     "output_type": "stream",
     "text": [
      "Epoch 51/100\n",
      "103/103 [==============================] - 9s 86ms/step - loss: 1.9989 - mean_squared_error: 1.9989 - val_loss: 3.6616 - val_mean_squared_error: 3.6616\n",
      "Epoch 52/100\n",
      "103/103 [==============================] - 9s 87ms/step - loss: 2.0092 - mean_squared_error: 2.0092 - val_loss: 3.9950 - val_mean_squared_error: 3.9950\n",
      "Epoch 53/100\n",
      "103/103 [==============================] - 9s 87ms/step - loss: 1.9191 - mean_squared_error: 1.9191 - val_loss: 3.6576 - val_mean_squared_error: 3.6576\n",
      "Epoch 54/100\n",
      "103/103 [==============================] - 9s 86ms/step - loss: 1.8735 - mean_squared_error: 1.8735 - val_loss: 4.5272 - val_mean_squared_error: 4.5272\n",
      "Epoch 55/100\n",
      "103/103 [==============================] - 9s 87ms/step - loss: 1.7569 - mean_squared_error: 1.7569 - val_loss: 3.7198 - val_mean_squared_error: 3.7198\n",
      "Epoch 56/100\n",
      "103/103 [==============================] - 9s 86ms/step - loss: 1.6409 - mean_squared_error: 1.6409 - val_loss: 3.2799 - val_mean_squared_error: 3.2799\n",
      "Epoch 57/100\n",
      "103/103 [==============================] - 9s 87ms/step - loss: 1.7357 - mean_squared_error: 1.7357 - val_loss: 3.4096 - val_mean_squared_error: 3.4096\n",
      "Epoch 58/100\n",
      "103/103 [==============================] - 9s 86ms/step - loss: 1.7362 - mean_squared_error: 1.7362 - val_loss: 3.4879 - val_mean_squared_error: 3.4879\n",
      "Epoch 59/100\n",
      "103/103 [==============================] - 9s 86ms/step - loss: 1.5915 - mean_squared_error: 1.5915 - val_loss: 3.6806 - val_mean_squared_error: 3.6806\n",
      "Epoch 60/100\n",
      "103/103 [==============================] - 9s 87ms/step - loss: 1.5628 - mean_squared_error: 1.5628 - val_loss: 3.8146 - val_mean_squared_error: 3.8146\n",
      "Epoch 61/100\n",
      "103/103 [==============================] - 9s 87ms/step - loss: 1.6260 - mean_squared_error: 1.6260 - val_loss: 3.6636 - val_mean_squared_error: 3.6636\n",
      "Epoch 62/100\n",
      "103/103 [==============================] - 9s 87ms/step - loss: 1.4256 - mean_squared_error: 1.4256 - val_loss: 3.6968 - val_mean_squared_error: 3.6968\n",
      "Epoch 63/100\n",
      "103/103 [==============================] - 9s 89ms/step - loss: 1.6458 - mean_squared_error: 1.6458 - val_loss: 3.5085 - val_mean_squared_error: 3.5085\n",
      "Epoch 64/100\n",
      "103/103 [==============================] - 9s 87ms/step - loss: 1.4265 - mean_squared_error: 1.4265 - val_loss: 3.7323 - val_mean_squared_error: 3.7323\n",
      "Epoch 65/100\n",
      "103/103 [==============================] - 9s 88ms/step - loss: 1.4229 - mean_squared_error: 1.4229 - val_loss: 4.6448 - val_mean_squared_error: 4.6448\n",
      "Epoch 66/100\n",
      "103/103 [==============================] - 9s 87ms/step - loss: 1.3977 - mean_squared_error: 1.3977 - val_loss: 3.5856 - val_mean_squared_error: 3.5856\n",
      "Epoch 67/100\n",
      "103/103 [==============================] - 9s 89ms/step - loss: 1.4423 - mean_squared_error: 1.4423 - val_loss: 4.1172 - val_mean_squared_error: 4.1172\n",
      "Epoch 68/100\n",
      "103/103 [==============================] - 9s 87ms/step - loss: 1.3144 - mean_squared_error: 1.3144 - val_loss: 3.5202 - val_mean_squared_error: 3.5202\n",
      "Epoch 69/100\n",
      "103/103 [==============================] - 9s 86ms/step - loss: 1.4172 - mean_squared_error: 1.4172 - val_loss: 3.2080 - val_mean_squared_error: 3.2080\n",
      "Epoch 70/100\n",
      "103/103 [==============================] - 9s 85ms/step - loss: 1.2647 - mean_squared_error: 1.2647 - val_loss: 3.5797 - val_mean_squared_error: 3.5797\n",
      "Epoch 71/100\n",
      "103/103 [==============================] - 9s 87ms/step - loss: 1.2997 - mean_squared_error: 1.2997 - val_loss: 3.3400 - val_mean_squared_error: 3.3400\n",
      "Epoch 72/100\n",
      "103/103 [==============================] - 9s 87ms/step - loss: 1.2772 - mean_squared_error: 1.2772 - val_loss: 3.3784 - val_mean_squared_error: 3.3784\n",
      "Epoch 73/100\n",
      "103/103 [==============================] - 9s 86ms/step - loss: 1.2011 - mean_squared_error: 1.2011 - val_loss: 3.5476 - val_mean_squared_error: 3.5476\n",
      "Epoch 74/100\n",
      "103/103 [==============================] - 9s 86ms/step - loss: 1.0821 - mean_squared_error: 1.0821 - val_loss: 3.6954 - val_mean_squared_error: 3.6954\n",
      "Epoch 75/100\n",
      "103/103 [==============================] - 9s 88ms/step - loss: 1.1798 - mean_squared_error: 1.1798 - val_loss: 3.4876 - val_mean_squared_error: 3.4876\n",
      "Epoch 76/100\n",
      "103/103 [==============================] - 9s 88ms/step - loss: 1.2252 - mean_squared_error: 1.2252 - val_loss: 3.4288 - val_mean_squared_error: 3.4288\n",
      "Epoch 77/100\n",
      "103/103 [==============================] - 9s 88ms/step - loss: 1.1557 - mean_squared_error: 1.1557 - val_loss: 3.6754 - val_mean_squared_error: 3.6754\n",
      "Epoch 78/100\n",
      "103/103 [==============================] - 9s 90ms/step - loss: 1.1002 - mean_squared_error: 1.1002 - val_loss: 3.2116 - val_mean_squared_error: 3.2116\n",
      "Epoch 79/100\n",
      "103/103 [==============================] - 9s 88ms/step - loss: 1.0104 - mean_squared_error: 1.0104 - val_loss: 3.3626 - val_mean_squared_error: 3.3626\n",
      "Epoch 80/100\n",
      "103/103 [==============================] - 9s 87ms/step - loss: 1.0189 - mean_squared_error: 1.0189 - val_loss: 3.2693 - val_mean_squared_error: 3.2693\n",
      "Epoch 81/100\n",
      "103/103 [==============================] - 9s 88ms/step - loss: 1.0197 - mean_squared_error: 1.0197 - val_loss: 3.3055 - val_mean_squared_error: 3.3055\n",
      "Epoch 82/100\n",
      "103/103 [==============================] - 9s 86ms/step - loss: 1.0359 - mean_squared_error: 1.0359 - val_loss: 3.6461 - val_mean_squared_error: 3.6461\n",
      "Epoch 83/100\n",
      "103/103 [==============================] - 9s 86ms/step - loss: 1.0061 - mean_squared_error: 1.0061 - val_loss: 3.5333 - val_mean_squared_error: 3.5333\n",
      "Epoch 84/100\n",
      "103/103 [==============================] - 9s 88ms/step - loss: 1.0377 - mean_squared_error: 1.0377 - val_loss: 3.6669 - val_mean_squared_error: 3.6669\n",
      "Epoch 85/100\n",
      "103/103 [==============================] - 9s 89ms/step - loss: 1.0132 - mean_squared_error: 1.0132 - val_loss: 3.3670 - val_mean_squared_error: 3.3670\n",
      "Epoch 86/100\n",
      "103/103 [==============================] - 9s 88ms/step - loss: 0.9366 - mean_squared_error: 0.9366 - val_loss: 3.1698 - val_mean_squared_error: 3.1698\n",
      "Epoch 87/100\n",
      "103/103 [==============================] - 9s 86ms/step - loss: 1.0374 - mean_squared_error: 1.0374 - val_loss: 3.5101 - val_mean_squared_error: 3.5101\n",
      "Epoch 88/100\n",
      "103/103 [==============================] - 9s 87ms/step - loss: 0.9762 - mean_squared_error: 0.9762 - val_loss: 3.6827 - val_mean_squared_error: 3.6827\n",
      "Epoch 89/100\n",
      "103/103 [==============================] - 9s 87ms/step - loss: 0.9335 - mean_squared_error: 0.9335 - val_loss: 3.2977 - val_mean_squared_error: 3.2977\n",
      "Epoch 90/100\n",
      "103/103 [==============================] - 9s 86ms/step - loss: 1.0444 - mean_squared_error: 1.0444 - val_loss: 3.3337 - val_mean_squared_error: 3.3337\n",
      "Epoch 91/100\n",
      "103/103 [==============================] - 9s 87ms/step - loss: 0.9342 - mean_squared_error: 0.9342 - val_loss: 3.9581 - val_mean_squared_error: 3.9581\n",
      "Epoch 92/100\n",
      "103/103 [==============================] - 9s 86ms/step - loss: 0.9085 - mean_squared_error: 0.9085 - val_loss: 3.2235 - val_mean_squared_error: 3.2235\n",
      "Epoch 93/100\n",
      "103/103 [==============================] - 9s 87ms/step - loss: 0.8132 - mean_squared_error: 0.8132 - val_loss: 3.4012 - val_mean_squared_error: 3.4012\n",
      "Epoch 94/100\n",
      "103/103 [==============================] - 9s 87ms/step - loss: 0.9120 - mean_squared_error: 0.9120 - val_loss: 3.1762 - val_mean_squared_error: 3.1762\n",
      "Epoch 95/100\n",
      "103/103 [==============================] - 9s 88ms/step - loss: 0.8401 - mean_squared_error: 0.8401 - val_loss: 3.4540 - val_mean_squared_error: 3.4540\n",
      "Epoch 96/100\n",
      "103/103 [==============================] - 9s 87ms/step - loss: 0.8961 - mean_squared_error: 0.8961 - val_loss: 3.1942 - val_mean_squared_error: 3.1942\n",
      "Epoch 97/100\n",
      "103/103 [==============================] - 9s 86ms/step - loss: 0.8219 - mean_squared_error: 0.8219 - val_loss: 3.4194 - val_mean_squared_error: 3.4194\n",
      "Epoch 98/100\n",
      "103/103 [==============================] - 9s 87ms/step - loss: 0.7501 - mean_squared_error: 0.7501 - val_loss: 3.3948 - val_mean_squared_error: 3.3948\n",
      "Epoch 99/100\n",
      "103/103 [==============================] - 9s 87ms/step - loss: 0.7945 - mean_squared_error: 0.7945 - val_loss: 3.2894 - val_mean_squared_error: 3.2894\n",
      "Epoch 100/100\n"
     ]
    },
    {
     "name": "stdout",
     "output_type": "stream",
     "text": [
      "103/103 [==============================] - 9s 86ms/step - loss: 0.8558 - mean_squared_error: 0.8558 - val_loss: 3.0359 - val_mean_squared_error: 3.0359\n"
     ]
    }
   ],
   "source": [
    "batch_size = 32\n",
    "epochs = 100\n",
    "data_size = train[0].shape[0]\n",
    "history = model.fit_generator(generator=generator(data=train, batch_size=batch_size), \n",
    "                              validation_data=(valid[0], valid[1]),\n",
    "                              epochs = epochs,\n",
    "                              steps_per_epoch=data_size//batch_size,\n",
    "                              use_multiprocessing=True, shuffle=True,\n",
    "                              verbose = 1)"
   ]
  },
  {
   "cell_type": "code",
   "execution_count": 16,
   "metadata": {},
   "outputs": [
    {
     "data": {
      "text/plain": [
       "dict_keys(['loss', 'val_loss', 'val_mean_squared_error', 'mean_squared_error'])"
      ]
     },
     "execution_count": 16,
     "metadata": {},
     "output_type": "execute_result"
    }
   ],
   "source": [
    "history.history.keys()"
   ]
  },
  {
   "cell_type": "code",
   "execution_count": 20,
   "metadata": {},
   "outputs": [
    {
     "data": {
      "image/png": "[encoded data removed]",
      "text/plain": [
       "<matplotlib.figure.Figure at 0x7fbe446afcc0>"
      ]
     },
     "metadata": {},
     "output_type": "display_data"
    }
   ],
   "source": [
    "f = plt.figure()\n",
    "plt.plot(history.history['mean_squared_error'])\n",
    "plt.plot(history.history['val_mean_squared_error'])\n",
    "plt.xlabel('Epochs')\n",
    "plt.ylabel('Mean Squared Error')\n",
    "plt.legend(['Train', 'Validation'])\n",
    "plt.show()\n",
    "f.savefig('training_curve.png')"
   ]
  },
  {
   "cell_type": "code",
   "execution_count": 22,
   "metadata": {},
   "outputs": [],
   "source": [
    "test_pred = model.predict(x=test[0])"
   ]
  },
  {
   "cell_type": "code",
   "execution_count": 25,
   "metadata": {},
   "outputs": [
    {
     "name": "stdout",
     "output_type": "stream",
     "text": [
      "R2 for test data:  0.15340728210535026\n"
     ]
    }
   ],
   "source": [
    "r2 = r2_score(y_pred=test_pred, y_true=test[1])\n",
    "print('R2 for test data: ', r2)"
   ]
  },
  {
   "cell_type": "code",
   "execution_count": 27,
   "metadata": {},
   "outputs": [
    {
     "data": {
      "image/png": "[encoded data removed]",
      "text/plain": [
       "<matplotlib.figure.Figure at 0x7fbdf8687b38>"
      ]
     },
     "metadata": {},
     "output_type": "display_data"
    }
   ],
   "source": [
    "plt.figure()\n",
    "plt.scatter(test[1], test_pred)\n",
    "plt.xlabel('Experimental Values')\n",
    "plt.ylabel('Predicted Values')\n",
    "plt.show()"
   ]
  },
  {
   "cell_type": "code",
   "execution_count": 12,
   "metadata": {},
   "outputs": [
    {
     "name": "stdout",
     "output_type": "stream",
     "text": [
      "Saved model to disk\n"
     ]
    }
   ],
   "source": [
    "# serialize model to JSON\n",
    "model_json = get_model().to_json()\n",
    "with open(\"cnn_model.json\", \"w\") as json_file:\n",
    "    json_file.write(model_json)\n",
    "# serialize weights to HDF5\n",
    "model.save_weights(\"cnn_model.h5\")\n",
    "print(\"Saved model to disk\")"
   ]
  },
  {
   "cell_type": "code",
   "execution_count": null,
   "metadata": {},
   "outputs": [],
   "source": []
  }
 ],
 "metadata": {
  "kernelspec": {
   "display_name": "Python 3",
   "language": "python",
   "name": "python3"
  },
  "language_info": {
   "codemirror_mode": {
    "name": "ipython",
    "version": 3
   },
   "file_extension": ".py",
   "mimetype": "text/x-python",
   "name": "python",
   "nbconvert_exporter": "python",
   "pygments_lexer": "ipython3",
   "version": "3.5.4"
  }
 },
 "nbformat": 4,
 "nbformat_minor": 2
}
